{
 "cells": [
  {
   "cell_type": "code",
   "execution_count": 6,
   "metadata": {
    "collapsed": false
   },
   "outputs": [
    {
     "name": "stdout",
     "output_type": "stream",
     "text": [
      "gonna\n",
      "gonna\n"
     ]
    },
    {
     "data": {
      "text/plain": [
       "{'gonna': 2}"
      ]
     },
     "execution_count": 6,
     "metadata": {},
     "output_type": "execute_result"
    }
   ],
   "source": [
    "sample_memo = '''\n",
    "Milt, we're gonna need to go ahead and move you downstairs into storage B. We have some new people coming in, and we need all the space we can get. So if you could just go ahead and pack up your stuff and move it down there, that would be terrific, OK?\n",
    "Oh, and remember: next Friday... is Hawaiian shirt day. So, you know, if you want to, go ahead and wear a Hawaiian shirt and jeans.\n",
    "Oh, oh, and I almost forgot. Ahh, I'm also gonna need you to go ahead and come in on Sunday, too...\n",
    "Hello Peter, whats happening? Ummm, I'm gonna need you to go ahead and come in tomorrow. So if you could be here around 9 that would be great, mmmk... oh oh! and I almost forgot ahh, I'm also gonna need you to go ahead and come in on Sunday too, kay. We ahh lost some people this week and ah, we sorta need to play catch up.\n",
    "'''\n",
    "\n",
    "#\n",
    "#   Maximum Likelihood Hypothesis\n",
    "#\n",
    "#\n",
    "#   In this quiz we will find the maximum likelihood word based on the preceding word\n",
    "#\n",
    "#   Fill in the NextWordProbability procedure so that it takes in sample text and a word,\n",
    "#   and returns a dictionary with keys the set of words that come after, whose values are\n",
    "#   the number of times the key comes after that word.\n",
    "#   \n",
    "#   Just use .split() to split the sample_memo text into words separated by spaces.\n",
    "def get_next_item(next_index, words):\n",
    "    if next_index < len(words):\n",
    "        return words[next_index]\n",
    "\n",
    "\n",
    "def NextWordProbability(sampletext,word):\n",
    "    \n",
    "    words = sample_memo.split()\n",
    "    \n",
    "    word_that_follows_dict = {}\n",
    "    \n",
    "    # for each word in the list\n",
    "    for index, word_from_list in enumerate(words):\n",
    "        \n",
    "        # if we have a match\n",
    "        if word_from_list == word:\n",
    "            \n",
    "            # get the word that follows that match\n",
    "            next_word = get_next_item(index+1, words)\n",
    "            \n",
    "            # if not falsly (null in python)\n",
    "            if next_word:\n",
    "                \n",
    "                print(next_word)\n",
    "                # add the word to the dict if it doesn't exist and increment the counter\n",
    "                if next_word not in word_that_follows_dict:\n",
    "                    \n",
    "                    # create the entry\n",
    "                    word_that_follows_dict[next_word] = {}\n",
    "                    \n",
    "                    # add the default value\n",
    "                    word_that_follows_dict[next_word] = 1\n",
    "                \n",
    "                # if it does already exist\n",
    "                elif next_word in word_that_follows_dict:\n",
    "                    \n",
    "                    # increment the existing counter for the next word\n",
    "                    word_that_follows_dict[next_word] += 1\n",
    "                    \n",
    "    return word_that_follows_dict\n",
    "\n",
    "NextWordProbability(sample_memo,'also')"
   ]
  },
  {
   "cell_type": "code",
   "execution_count": null,
   "metadata": {
    "collapsed": true
   },
   "outputs": [],
   "source": []
  }
 ],
 "metadata": {
  "anaconda-cloud": {},
  "kernelspec": {
   "display_name": "Python [conda root]",
   "language": "python",
   "name": "conda-root-py"
  },
  "language_info": {
   "codemirror_mode": {
    "name": "ipython",
    "version": 2
   },
   "file_extension": ".py",
   "mimetype": "text/x-python",
   "name": "python",
   "nbconvert_exporter": "python",
   "pygments_lexer": "ipython2",
   "version": "2.7.12"
  }
 },
 "nbformat": 4,
 "nbformat_minor": 1
}
